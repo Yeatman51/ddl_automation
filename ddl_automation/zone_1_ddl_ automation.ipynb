{
 "cells": [
  {
   "cell_type": "code",
   "execution_count": 84,
   "id": "f264f851",
   "metadata": {},
   "outputs": [
    {
     "data": {
      "text/plain": [
       "True"
      ]
     },
     "execution_count": 84,
     "metadata": {},
     "output_type": "execute_result"
    }
   ],
   "source": [
    "import time, os\n",
    "from selenium import webdriver\n",
    "from selenium.webdriver.support.select import Select\n",
    "from selenium.webdriver.common.keys import Keys\n",
    "from selenium.webdriver.common.by import By\n",
    "from selenium.webdriver.chrome.service import Service\n",
    "from selenium.webdriver.chrome.options import Options\n",
    "from dotenv import load_dotenv\n",
    "load_dotenv()"
   ]
  },
  {
   "cell_type": "code",
   "execution_count": 85,
   "id": "723ca9f7",
   "metadata": {
    "scrolled": false
   },
   "outputs": [],
   "source": [
    "# .env\n",
    "chrome_path = r\"C:\\Users\\Jon\\Downloads\\chromedriver_win32\\chromedriver.exe\"\n",
    "email = os.environ.get(\"EMAIL\")\n",
    "password  = os.environ.get(\"PASSWD\")\n",
    "url = os.environ.get(\"URL\")\n",
    "\n",
    "ddl1 = 'Fridge 10'\n",
    "ddl2 = 'Fridge 11'\n",
    "ddl3 = 'Fridge 12'\n",
    "ddl4 = 'Freezer 18'\n",
    "\n",
    "date = 'June 13, 2022'"
   ]
  },
  {
   "cell_type": "code",
   "execution_count": 86,
   "id": "0b285245",
   "metadata": {
    "scrolled": true
   },
   "outputs": [
    {
     "name": "stdout",
     "output_type": "stream",
     "text": [
      "process Started ---------\n"
     ]
    }
   ],
   "source": [
    "print(\"process Started ---------\")"
   ]
  },
  {
   "cell_type": "code",
   "execution_count": 87,
   "id": "f6164d2f",
   "metadata": {},
   "outputs": [],
   "source": [
    "op = Options()\n",
    "op.add_argument(\"--start-maximized\") #open Browser in maximized mode\n",
    "op.add_argument(\"--no-sandbox\") #bypass OS security model\n",
    "op.add_argument(\"--disable-dev-shm-usage\") #overcome limited resource problems\n",
    "# op.add_experimental_option(\"excludeSwitches\", [\"enable-automation\"])\n",
    "# op.add_experimental_option('useAutomationExtension', False)\n",
    "op.headless = False # change to true if we want to hide the browser\n",
    "s = Service(chrome_path)\n",
    "\n",
    "with  webdriver.Chrome(service=s, options=op) as d:\n",
    "    d.get(url)\n",
    "    d.find_element(by=By.NAME, value='login-form:j_idt120').send_keys(email)\n",
    "    d.find_element(by=By.NAME, value='login-form:j_idt125').send_keys(password)\n",
    "    d.find_element(by=By.ID, value='login-form:j_idt127').click()\n",
    "    time.sleep(2)\n",
    "    \n",
    "# Fridge 10 ddl1\n",
    "# ddl input\n",
    "    d.find_element(by=By.ID, value='intempconnect-data-devices-form:config-name-filter-table:0:devices-panel-config-name-filter-input').send_keys(ddl1)\n",
    "    time.sleep(2)\n",
    "# drop-down\n",
    "    d.find_element(by=By.XPATH, value='//*[@id=\"intempconnect-data-devices-form:date-filter-table:0:devices-panel-date-filter-input\"]').send_keys('b')\n",
    "    time.sleep(2)\n",
    "    d.find_element(by=By.XPATH, value='//*[@id=\"intempconnect-data-devices-form:date-filter-table:0:devices-panel-date-filter-input\"]').send_keys('b')\n",
    "    time.sleep(2)\n",
    "# date input\n",
    "    d.find_element(by=By.XPATH, value='//*[@id=\"intempconnect-data-devices-form:date-filter-table:0:devices-panel-date-to-filter-input_input\"]').send_keys(date)\n",
    "    time.sleep(4)\n",
    "# data table\n",
    "    d.find_element(by=By.LINK_TEXT, value=f'{ddl1}').click()\n",
    "    time.sleep(3)\n",
    "# export\n",
    "    d.find_element(by=By.LINK_TEXT, value='Export').click()\n",
    "    time.sleep(3)\n",
    "# run report\n",
    "    d.find_element(by=By.ID, value='intempconnect-data-builder-form:runBtn').click()\n",
    "    time.sleep(12)\n",
    "# home\n",
    "    d.find_element(by=By.ID, value='j_idt40:j_idt42').click()\n",
    "    time.sleep(3)\n",
    "# rerun\n",
    "\n",
    "# Fridge 11 ddl2\n",
    "# ddl input\n",
    "    d.find_element(by=By.ID, value='intempconnect-data-devices-form:config-name-filter-table:0:devices-panel-config-name-filter-input').send_keys(ddl2)\n",
    "    time.sleep(2)\n",
    "# drop-down\n",
    "    d.find_element(by=By.XPATH, value='//*[@id=\"intempconnect-data-devices-form:date-filter-table:0:devices-panel-date-filter-input\"]').send_keys('b')\n",
    "    time.sleep(2)\n",
    "    d.find_element(by=By.XPATH, value='//*[@id=\"intempconnect-data-devices-form:date-filter-table:0:devices-panel-date-filter-input\"]').send_keys('b')\n",
    "    time.sleep(2)\n",
    "# date input\n",
    "    d.find_element(by=By.XPATH, value='//*[@id=\"intempconnect-data-devices-form:date-filter-table:0:devices-panel-date-to-filter-input_input\"]').send_keys(date)\n",
    "    time.sleep(4)\n",
    "# data table\n",
    "    d.find_element(by=By.LINK_TEXT, value=f'{ddl2}').click()\n",
    "    time.sleep(3)\n",
    "# export\n",
    "    d.find_element(by=By.LINK_TEXT, value='Export').click()\n",
    "    time.sleep(3)\n",
    "# run report\n",
    "    d.find_element(by=By.ID, value='intempconnect-data-builder-form:runBtn').click()\n",
    "    time.sleep(12)\n",
    "# home\n",
    "    d.find_element(by=By.ID, value='j_idt40:j_idt42').click()\n",
    "    time.sleep(3)\n",
    "# rerun\n",
    "\n",
    "# Fridge 12 ddl3 \n",
    "# ddl input\n",
    "    d.find_element(by=By.ID, value='intempconnect-data-devices-form:config-name-filter-table:0:devices-panel-config-name-filter-input').send_keys(ddl3)\n",
    "    time.sleep(2)\n",
    "# drop-down\n",
    "    d.find_element(by=By.XPATH, value='//*[@id=\"intempconnect-data-devices-form:date-filter-table:0:devices-panel-date-filter-input\"]').send_keys('b')\n",
    "    time.sleep(2)\n",
    "    d.find_element(by=By.XPATH, value='//*[@id=\"intempconnect-data-devices-form:date-filter-table:0:devices-panel-date-filter-input\"]').send_keys('b')\n",
    "    time.sleep(2)\n",
    "# date input\n",
    "    d.find_element(by=By.XPATH, value='//*[@id=\"intempconnect-data-devices-form:date-filter-table:0:devices-panel-date-to-filter-input_input\"]').send_keys(date)\n",
    "    time.sleep(4)\n",
    "# data table\n",
    "    d.find_element(by=By.LINK_TEXT, value=f'{ddl3}').click()\n",
    "    time.sleep(3)\n",
    "# export\n",
    "    d.find_element(by=By.LINK_TEXT, value='Export').click()\n",
    "    time.sleep(3)\n",
    "# run report\n",
    "    d.find_element(by=By.ID, value='intempconnect-data-builder-form:runBtn').click()\n",
    "    time.sleep(12)\n",
    "# home\n",
    "    d.find_element(by=By.ID, value='j_idt40:j_idt42').click()\n",
    "    time.sleep(3)\n",
    "# rerun\n",
    "\n",
    "# Freezer 18 ddl4\n",
    "# ddl input\n",
    "    d.find_element(by=By.ID, value='intempconnect-data-devices-form:config-name-filter-table:0:devices-panel-config-name-filter-input').send_keys(ddl4)\n",
    "    time.sleep(2)\n",
    "# drop-down\n",
    "    d.find_element(by=By.XPATH, value='//*[@id=\"intempconnect-data-devices-form:date-filter-table:0:devices-panel-date-filter-input\"]').send_keys('b')\n",
    "    time.sleep(2)\n",
    "    d.find_element(by=By.XPATH, value='//*[@id=\"intempconnect-data-devices-form:date-filter-table:0:devices-panel-date-filter-input\"]').send_keys('b')\n",
    "    time.sleep(2)\n",
    "# date input\n",
    "    d.find_element(by=By.XPATH, value='//*[@id=\"intempconnect-data-devices-form:date-filter-table:0:devices-panel-date-to-filter-input_input\"]').send_keys(date)\n",
    "    time.sleep(4)\n",
    "# data table\n",
    "    d.find_element(by=By.LINK_TEXT, value=f'{ddl4}').click()\n",
    "    time.sleep(3)\n",
    "# export\n",
    "    d.find_element(by=By.LINK_TEXT, value='Export').click()\n",
    "    time.sleep(3)\n",
    "# run report\n",
    "    d.find_element(by=By.ID, value='intempconnect-data-builder-form:runBtn').click()\n",
    "    time.sleep(12)\n",
    "# home\n",
    "    d.find_element(by=By.ID, value='j_idt40:j_idt42').click()\n",
    "    time.sleep(3)\n",
    "# rerun"
   ]
  },
  {
   "cell_type": "code",
   "execution_count": 88,
   "id": "e4b69fbd",
   "metadata": {},
   "outputs": [
    {
     "name": "stdout",
     "output_type": "stream",
     "text": [
      "Done----------------------\n"
     ]
    }
   ],
   "source": [
    "print(\"Done----------------------\")"
   ]
  },
  {
   "cell_type": "code",
   "execution_count": null,
   "id": "d318fe5b",
   "metadata": {},
   "outputs": [],
   "source": []
  }
 ],
 "metadata": {
  "kernelspec": {
   "display_name": "Python 3 (ipykernel)",
   "language": "python",
   "name": "python3"
  },
  "language_info": {
   "codemirror_mode": {
    "name": "ipython",
    "version": 3
   },
   "file_extension": ".py",
   "mimetype": "text/x-python",
   "name": "python",
   "nbconvert_exporter": "python",
   "pygments_lexer": "ipython3",
   "version": "3.9.12"
  }
 },
 "nbformat": 4,
 "nbformat_minor": 5
}
