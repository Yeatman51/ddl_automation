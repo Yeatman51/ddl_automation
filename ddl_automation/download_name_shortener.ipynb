{
 "cells": [
  {
   "cell_type": "code",
   "execution_count": null,
   "id": "3bdbb348",
   "metadata": {},
   "outputs": [],
   "source": [
    "# Example file Before\n",
    "# DDL 147 2021-10-31 19_10_30 EDT (Data EDT).pdf Dundee WC \n",
    "\n",
    "# Example file After\n",
    "# 211031 191030 Dundee WC "
   ]
  },
  {
   "cell_type": "code",
   "execution_count": 54,
   "id": "8b837fce",
   "metadata": {},
   "outputs": [],
   "source": [
    "import os\n",
    " \n",
    "#you must change your path to folder having your files \n",
    "os.chdir(r'S:\\Scans\\DDL name split')\n",
    "\n",
    "for filename in os.listdir(r'S:\\Scans\\DDL name split'):\n",
    "    os.rename(filename, filename.replace('-', ''))\n",
    "#     print(filename)"
   ]
  },
  {
   "cell_type": "code",
   "execution_count": 55,
   "id": "fac33b02",
   "metadata": {},
   "outputs": [],
   "source": [
    "import os\n",
    " \n",
    "#you must change your path to folder having your files \n",
    "os.chdir(r'S:\\Scans\\DDL name split')\n",
    "\n",
    "for filename in os.listdir(r'S:\\Scans\\DDL name split'):\n",
    "    os.rename(filename, filename.replace('_', ''))\n",
    "#     print(filename)"
   ]
  },
  {
   "cell_type": "code",
   "execution_count": 56,
   "id": "00ca6af1",
   "metadata": {},
   "outputs": [],
   "source": [
    "import os\n",
    "\n",
    "paths = (os.path.join(root, filename)\n",
    "        for root, _, filenames in os.walk(r'S:\\Scans\\DDL name split')\n",
    "        for filename in filenames)\n",
    "\n",
    "for path in paths:\n",
    "    newname = path.replace('2021', '21')\n",
    "    if newname != path:\n",
    "        os.rename(path, newname)\n",
    "#         print(newname)"
   ]
  },
  {
   "cell_type": "code",
   "execution_count": 57,
   "id": "09a36530",
   "metadata": {},
   "outputs": [],
   "source": [
    "import os\n",
    "\n",
    "paths = (os.path.join(root, filename)\n",
    "        for root, _, filenames in os.walk(r'S:\\Scans\\DDL name split')\n",
    "        for filename in filenames)\n",
    "\n",
    "for path in paths:\n",
    "    newname = path.replace('2022', '22')\n",
    "    if newname != path:\n",
    "        os.rename(path, newname)\n",
    "#         print(newname)"
   ]
  },
  {
   "cell_type": "code",
   "execution_count": 58,
   "id": "701d52db",
   "metadata": {},
   "outputs": [],
   "source": [
    "import os\n",
    " \n",
    "#you must change your path to folder having your files \n",
    "os.chdir(r'S:\\Scans\\DDL name split')\n",
    "\n",
    "for filename in os.listdir(r'S:\\Scans\\DDL name split'):\n",
    "    os.rename(filename, filename.replace('DDL ', ''))\n",
    "#     print(filename)"
   ]
  },
  {
   "cell_type": "code",
   "execution_count": 59,
   "id": "f0667f3c",
   "metadata": {},
   "outputs": [],
   "source": [
    "import os\n",
    " \n",
    "#you must change your path to folder having your files \n",
    "os.chdir(r'S:\\Scans\\DDL name split')\n",
    "\n",
    "for filename in os.listdir(r'S:\\Scans\\DDL name split'):\n",
    "    os.rename(filename, filename.replace(' EST (Data EST).pdf', ''))\n",
    "#     print(filename)"
   ]
  },
  {
   "cell_type": "code",
   "execution_count": 60,
   "id": "beb3f79e",
   "metadata": {},
   "outputs": [],
   "source": [
    "import os\n",
    " \n",
    "#you must change your path to folder having your files \n",
    "os.chdir(r'S:\\Scans\\DDL name split')\n",
    "\n",
    "for filename in os.listdir(r'S:\\Scans\\DDL name split'):\n",
    "    os.rename(filename, filename.replace(' EDT (Data EDT).pdf', ''))\n",
    "#     print(filename)"
   ]
  },
  {
   "cell_type": "code",
   "execution_count": 61,
   "id": "722002c8",
   "metadata": {
    "scrolled": true
   },
   "outputs": [],
   "source": [
    "import os\n",
    " \n",
    "#you must change your path to folder having your files \n",
    "os.chdir(r'S:\\Scans\\DDL name split')\n",
    "\n",
    "for filename in os.listdir(r'S:\\Scans\\DDL name split'):\n",
    "    os.rename(filename, filename[4:])\n",
    "#     print(filename)\n",
    "\n"
   ]
  },
  {
   "cell_type": "code",
   "execution_count": null,
   "id": "02949ffd",
   "metadata": {},
   "outputs": [],
   "source": []
  },
  {
   "cell_type": "code",
   "execution_count": 123,
   "id": "b4ca2c1c",
   "metadata": {
    "scrolled": false
   },
   "outputs": [
    {
     "name": "stdout",
     "output_type": "stream",
     "text": [
      "211209 God People Church PEDS .pdf\n",
      "211209 Gods People Church PEDS .pdf\n",
      "211209 Macnamara .pdf\n",
      "211209 Bethel Baptist Church .pdf\n",
      "211209\n",
      "211209 Memorial Baptist Church .pdf\n",
      "211209 Memorial Baptist Church PEDS .pdf\n",
      "211209 King Solomon .pdf\n",
      "211209 King Solomon PEDS .pdf\n",
      "211209 gospel center .pdf\n",
      "211209 gospel center PEDS .pdf\n",
      "211209 Calvary Lutheran Church .pdf\n",
      "211209 Church of God .pdf\n",
      "211209 Church Of God PEDS .pdf\n",
      "211209 Open Door Church and Christ .pdf\n",
      "211209 Open Door Church God and Christ PEDS .pdf\n",
      "211223 gods people .pdf\n",
      "211223 gods people church PEDS .pdf\n",
      "211223 Ford community performing arts center .pdf\n",
      "211223 .pdf\n",
      "211223 King .pdf\n",
      "211223 king Solomon PEDS .pdf\n",
      "211223 Gospel Center, .pdf\n",
      "211223 door church God in Christ PEDS .pdf\n",
      "211223 school clinic .pdf\n",
      "211223 school clinic PEDS .pdf\n",
      "211223 Church God .pdf\n",
      "211223 open door .pdf\n",
      "211227 .pdf\n",
      "211227 operation get down .pdf\n",
      "211228 gods people .pdf\n",
      "211228 gods people PEDS .pdf\n",
      "211228 8 mile road .pdf\n",
      "211228 Hills SKLD Adams Road .pdf\n",
      "211228 North.pdf\n",
      "211228 gospel .pdf\n",
      "211228 gospel PEDS .pdf\n",
      "211228 heartland Grosse Pointe Woods .pdf\n",
      "211228 Birth.pdf\n",
      "211228 NSO.pdf\n",
      "211228 open door .pdf\n",
      "211228 open door God in Christ PEDS .pdf\n",
      "211228 community College W. Outer Dr. .pdf\n",
      "211228 County community College PEDS .pdf\n",
      "211228 Michigan Avenue .pdf\n",
      "211229 YMCA .pdf\n",
      "211231 of Vaccines from Roscommon to Livonia.pdf\n",
      "220103 to Transport vaccines to Christ Temple Muskegon .pdf\n",
      "220104 Birth.pdf\n",
      "220105 Baptist Church east PEDS .pdf\n",
      "220105\n",
      "220105 Church of God PEDS .pdf\n",
      "220105 Church PEDS .pdf\n",
      "220106 Calvary Lutheran Church .pdf\n",
      "220110 EAST PEDS.pdf\n",
      "220110 City Hall.pdf\n",
      "220110 PEDS.pdf\n",
      "220110 Park community center .pdf\n",
      "220110 Hope.pdf\n",
      "220110 Church of God PEDS.pdf\n",
      "220110 cooler #2.pdf\n",
      "220127 king Solomon PEDS .pdf\n",
      "220127 Calvary PEDS .pdf\n",
      "220127 west Church of God PEDS .pdf\n",
      "220129 Park Rec. PEDS .pdf\n",
      "220129 .pdf\n",
      "220131 Allen Rd .pdf\n",
      "220131 Baptist East.pdf\n",
      "220131 Ice Skating .pdf\n",
      "220131 City Hall .pdf\n",
      "220131 Memorial PEDS .pdf\n",
      "220131 Park PEDS .pdf\n",
      "220131 Park Rec .pdf\n",
      "220131 Gospel Center .pdf\n",
      "220131 park .pdf\n",
      "220131 park PEDS .pdf\n"
     ]
    },
    {
     "ename": "FileExistsError",
     "evalue": "[WinError 183] Cannot create a file when that file already exists: '220131 Lincoln park PEDS .pdf' -> '220131 park PEDS .pdf'",
     "output_type": "error",
     "traceback": [
      "\u001b[1;31m---------------------------------------------------------------------------\u001b[0m",
      "\u001b[1;31mFileExistsError\u001b[0m                           Traceback (most recent call last)",
      "Input \u001b[1;32mIn [123]\u001b[0m, in \u001b[0;36m<cell line: 10>\u001b[1;34m()\u001b[0m\n\u001b[0;32m     23\u001b[0m new_name \u001b[38;5;241m=\u001b[39m \u001b[38;5;124m'\u001b[39m\u001b[38;5;124m \u001b[39m\u001b[38;5;124m'\u001b[39m\u001b[38;5;241m.\u001b[39mjoin(name_parts)\n\u001b[0;32m     25\u001b[0m \u001b[38;5;28mprint\u001b[39m(new_name)\n\u001b[1;32m---> 26\u001b[0m \u001b[43mos\u001b[49m\u001b[38;5;241;43m.\u001b[39;49m\u001b[43mrename\u001b[49m\u001b[43m(\u001b[49m\u001b[43mf\u001b[49m\u001b[43m,\u001b[49m\u001b[43m \u001b[49m\u001b[43mnew_name\u001b[49m\u001b[43m)\u001b[49m\n",
      "\u001b[1;31mFileExistsError\u001b[0m: [WinError 183] Cannot create a file when that file already exists: '220131 Lincoln park PEDS .pdf' -> '220131 park PEDS .pdf'"
     ]
    }
   ],
   "source": [
    "# Example file Before \n",
    "# 211030 181832 New Buffalo WC \n",
    "\n",
    "# Example file After\n",
    "# 211030 New Buffalo WC \n",
    "\n",
    "import os\n",
    "os.chdir(r'S:\\Scans\\DDL name split')\n",
    "\n",
    "for f in os.listdir():\n",
    "\n",
    "    name_parts = f.split()\n",
    "#     date = name_parts[0] \n",
    "    time = name_parts[1] \n",
    "#     site = name_parts[2] \n",
    "\n",
    "    \n",
    "#     print(name_parts)\n",
    "#     print(time)\n",
    "\n",
    "    \n",
    "    remove_time = name_parts.pop(1)\n",
    "    new_name = ' '.join(name_parts)\n",
    "\n",
    "#     print(new_name)\n",
    "    os.rename(f, new_name)"
   ]
  },
  {
   "cell_type": "code",
   "execution_count": null,
   "id": "58ac5dc5",
   "metadata": {},
   "outputs": [],
   "source": []
  },
  {
   "cell_type": "code",
   "execution_count": null,
   "id": "e527bb6f",
   "metadata": {},
   "outputs": [],
   "source": []
  },
  {
   "cell_type": "code",
   "execution_count": null,
   "id": "f13d7b1b",
   "metadata": {},
   "outputs": [],
   "source": []
  }
 ],
 "metadata": {
  "kernelspec": {
   "display_name": "Python 3 (ipykernel)",
   "language": "python",
   "name": "python3"
  },
  "language_info": {
   "codemirror_mode": {
    "name": "ipython",
    "version": 3
   },
   "file_extension": ".py",
   "mimetype": "text/x-python",
   "name": "python",
   "nbconvert_exporter": "python",
   "pygments_lexer": "ipython3",
   "version": "3.9.7"
  }
 },
 "nbformat": 4,
 "nbformat_minor": 5
}
