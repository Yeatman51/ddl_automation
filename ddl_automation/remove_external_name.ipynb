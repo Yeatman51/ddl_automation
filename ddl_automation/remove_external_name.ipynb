{
 "cells": [
  {
   "cell_type": "code",
   "execution_count": 5,
   "id": "fb6bd3eb",
   "metadata": {},
   "outputs": [],
   "source": [
    "import os\n",
    "\n",
    "paths = (os.path.join(root, filename)\n",
    "        for root, _, filenames in os.walk('S:\\Scans\\DDL Email Download')\n",
    "        for filename in filenames)\n",
    "\n",
    "for path in paths:\n",
    "    newname = path.replace('[External] ', '')\n",
    "    if newname != path:\n",
    "        os.rename(path, newname)"
   ]
  }
 ],
 "metadata": {
  "kernelspec": {
   "display_name": "Python 3 (ipykernel)",
   "language": "python",
   "name": "python3"
  },
  "language_info": {
   "codemirror_mode": {
    "name": "ipython",
    "version": 3
   },
   "file_extension": ".py",
   "mimetype": "text/x-python",
   "name": "python",
   "nbconvert_exporter": "python",
   "pygments_lexer": "ipython3",
   "version": "3.9.12"
  }
 },
 "nbformat": 4,
 "nbformat_minor": 5
}
