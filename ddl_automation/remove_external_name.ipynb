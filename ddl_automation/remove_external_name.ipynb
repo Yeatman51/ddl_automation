{
 "cells": [
  {
   "cell_type": "markdown",
   "id": "0d0bd51a",
   "metadata": {},
   "source": [
    " # remove_external_name\n",
    " A large number of files were sent with a non company or external e-mail address. As a result many of the files will be saved similar to the example below. \n",
    "\n",
    "<div style=\"text-align:center\">\n",
    " '[External] 220429 Jefferson Barnes PEDS'\n",
    "</div>\n",
    "<br>\n",
    "\n",
    " Running this file will remove the '[External]' Section of the file.\n",
    "\n",
    " <div style=\"text-align:center\">\n",
    " '220429 Jefferson Barnes PEDS'\n",
    "</div>\n",
    "<br>\n",
    "\n",
    " This script is directly targeted at 'S:\\Scans\\DDL Email Download' and will remove '[External]' from every file inside of the DDL Email Download folder. \n",
    "\n",
    " If you run into an error it is because the file is removing the external portion and there is a file already named with an identical name. This is an easy fix simply rename the matching file something different then rerun the script."
   ]
  },
  {
   "cell_type": "code",
   "execution_count": 5,
   "id": "fb6bd3eb",
   "metadata": {},
   "outputs": [],
   "source": [
    "import os\n",
    "\n",
    "paths = (os.path.join(root, filename)\n",
    "        for root, _, filenames in os.walk('S:\\Scans\\DDL Email Download')\n",
    "        for filename in filenames)\n",
    "\n",
    "for path in paths:\n",
    "    newname = path.replace('[External] ', '')\n",
    "    if newname != path:\n",
    "        os.rename(path, newname)"
   ]
  }
 ],
 "metadata": {
  "kernelspec": {
   "display_name": "Python 3 (ipykernel)",
   "language": "python",
   "name": "python3"
  },
  "language_info": {
   "codemirror_mode": {
    "name": "ipython",
    "version": 3
   },
   "file_extension": ".py",
   "mimetype": "text/x-python",
   "name": "python",
   "nbconvert_exporter": "python",
   "pygments_lexer": "ipython3",
   "version": "3.9.7"
  }
 },
 "nbformat": 4,
 "nbformat_minor": 5
}
